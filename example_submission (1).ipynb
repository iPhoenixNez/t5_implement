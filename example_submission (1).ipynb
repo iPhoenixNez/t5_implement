{
  "cells": [
    {
      "cell_type": "markdown",
      "source": [
        "**Work for mc problems, but output weird predictions for other type.**"
      ],
      "metadata": {
        "id": "VVQ_QQfFYgDZ"
      }
    },
    {
      "cell_type": "code",
      "execution_count": 1,
      "metadata": {
        "id": "ZXQwVVFN5oL8"
      },
      "outputs": [],
      "source": [
        "import os\n",
        "import json\n",
        "import pickle\n",
        "import numpy as np"
      ]
    },
    {
      "cell_type": "code",
      "source": [
        "from google.colab import drive\n",
        "drive.mount('/content/gdrive')"
      ],
      "metadata": {
        "colab": {
          "base_uri": "https://localhost:8080/"
        },
        "id": "xOyDrMKc5s3_",
        "outputId": "910a756a-97e7-48d4-8648-bfca7603e768"
      },
      "execution_count": 2,
      "outputs": [
        {
          "output_type": "stream",
          "name": "stdout",
          "text": [
            "Mounted at /content/gdrive\n"
          ]
        }
      ]
    },
    {
      "cell_type": "code",
      "execution_count": 3,
      "metadata": {
        "id": "mc8wGd_Z5oL9"
      },
      "outputs": [],
      "source": [
        "autocast_questions = json.load(open('/content/gdrive/My Drive/autocast_questions.json')) # from the Autocast dataset\n",
        "test_questions = json.load(open('/content/gdrive/My Drive/autocast_competition_test_set.json'))\n",
        "test_ids = [q['id'] for q in test_questions]"
      ]
    },
    {
      "cell_type": "markdown",
      "metadata": {
        "id": "P_Gi7Mvu5oL-"
      },
      "source": [
        "## Create baseline models outputting random answers"
      ]
    },
    {
      "cell_type": "code",
      "source": [
        "!pip install transformers"
      ],
      "metadata": {
        "colab": {
          "base_uri": "https://localhost:8080/"
        },
        "id": "DSU2FvsK7On3",
        "outputId": "620f40db-9dc2-4af6-c902-7860763995ea"
      },
      "execution_count": 4,
      "outputs": [
        {
          "output_type": "stream",
          "name": "stdout",
          "text": [
            "Looking in indexes: https://pypi.org/simple, https://us-python.pkg.dev/colab-wheels/public/simple/\n",
            "Collecting transformers\n",
            "  Downloading transformers-4.28.1-py3-none-any.whl (7.0 MB)\n",
            "\u001b[2K     \u001b[90m━━━━━━━━━━━━━━━━━━━━━━━━━━━━━━━━━━━━━━━━\u001b[0m \u001b[32m7.0/7.0 MB\u001b[0m \u001b[31m50.4 MB/s\u001b[0m eta \u001b[36m0:00:00\u001b[0m\n",
            "\u001b[?25hRequirement already satisfied: pyyaml>=5.1 in /usr/local/lib/python3.9/dist-packages (from transformers) (6.0)\n",
            "Requirement already satisfied: filelock in /usr/local/lib/python3.9/dist-packages (from transformers) (3.11.0)\n",
            "Collecting huggingface-hub<1.0,>=0.11.0\n",
            "  Downloading huggingface_hub-0.13.4-py3-none-any.whl (200 kB)\n",
            "\u001b[2K     \u001b[90m━━━━━━━━━━━━━━━━━━━━━━━━━━━━━━━━━━━━━━\u001b[0m \u001b[32m200.1/200.1 kB\u001b[0m \u001b[31m22.0 MB/s\u001b[0m eta \u001b[36m0:00:00\u001b[0m\n",
            "\u001b[?25hRequirement already satisfied: packaging>=20.0 in /usr/local/lib/python3.9/dist-packages (from transformers) (23.0)\n",
            "Requirement already satisfied: tqdm>=4.27 in /usr/local/lib/python3.9/dist-packages (from transformers) (4.65.0)\n",
            "Requirement already satisfied: regex!=2019.12.17 in /usr/local/lib/python3.9/dist-packages (from transformers) (2022.10.31)\n",
            "Requirement already satisfied: requests in /usr/local/lib/python3.9/dist-packages (from transformers) (2.27.1)\n",
            "Requirement already satisfied: numpy>=1.17 in /usr/local/lib/python3.9/dist-packages (from transformers) (1.22.4)\n",
            "Collecting tokenizers!=0.11.3,<0.14,>=0.11.1\n",
            "  Downloading tokenizers-0.13.3-cp39-cp39-manylinux_2_17_x86_64.manylinux2014_x86_64.whl (7.8 MB)\n",
            "\u001b[2K     \u001b[90m━━━━━━━━━━━━━━━━━━━━━━━━━━━━━━━━━━━━━━━━\u001b[0m \u001b[32m7.8/7.8 MB\u001b[0m \u001b[31m78.5 MB/s\u001b[0m eta \u001b[36m0:00:00\u001b[0m\n",
            "\u001b[?25hRequirement already satisfied: typing-extensions>=3.7.4.3 in /usr/local/lib/python3.9/dist-packages (from huggingface-hub<1.0,>=0.11.0->transformers) (4.5.0)\n",
            "Requirement already satisfied: certifi>=2017.4.17 in /usr/local/lib/python3.9/dist-packages (from requests->transformers) (2022.12.7)\n",
            "Requirement already satisfied: urllib3<1.27,>=1.21.1 in /usr/local/lib/python3.9/dist-packages (from requests->transformers) (1.26.15)\n",
            "Requirement already satisfied: idna<4,>=2.5 in /usr/local/lib/python3.9/dist-packages (from requests->transformers) (3.4)\n",
            "Requirement already satisfied: charset-normalizer~=2.0.0 in /usr/local/lib/python3.9/dist-packages (from requests->transformers) (2.0.12)\n",
            "Installing collected packages: tokenizers, huggingface-hub, transformers\n",
            "Successfully installed huggingface-hub-0.13.4 tokenizers-0.13.3 transformers-4.28.1\n"
          ]
        }
      ]
    },
    {
      "cell_type": "code",
      "source": [
        "!pip install sentencepiece"
      ],
      "metadata": {
        "colab": {
          "base_uri": "https://localhost:8080/"
        },
        "id": "PAXj0V967iCk",
        "outputId": "7776f0b8-ce59-4385-c37e-720e79f77d9c"
      },
      "execution_count": 5,
      "outputs": [
        {
          "output_type": "stream",
          "name": "stdout",
          "text": [
            "Looking in indexes: https://pypi.org/simple, https://us-python.pkg.dev/colab-wheels/public/simple/\n",
            "Collecting sentencepiece\n",
            "  Downloading sentencepiece-0.1.98-cp39-cp39-manylinux_2_17_x86_64.manylinux2014_x86_64.whl (1.3 MB)\n",
            "\u001b[2K     \u001b[90m━━━━━━━━━━━━━━━━━━━━━━━━━━━━━━━━━━━━━━━━\u001b[0m \u001b[32m1.3/1.3 MB\u001b[0m \u001b[31m16.2 MB/s\u001b[0m eta \u001b[36m0:00:00\u001b[0m\n",
            "\u001b[?25hInstalling collected packages: sentencepiece\n",
            "Successfully installed sentencepiece-0.1.98\n"
          ]
        }
      ]
    },
    {
      "cell_type": "code",
      "source": [
        "\n",
        "# Remove examples with Ids in the test set from the training set\n",
        "filtered_train_data = [example for example in autocast_questions if example[\"id\"] not in test_ids and example[\"answer\"] is not None]\n",
        "\n",
        "# Save the filtered training set to a new file\n",
        "with open(\"filtered_train_data.json\", \"w\") as f:\n",
        "    json.dump(filtered_train_data, f)"
      ],
      "metadata": {
        "id": "ukrU5pLZOKRX"
      },
      "execution_count": null,
      "outputs": []
    },
    {
      "cell_type": "code",
      "source": [
        "\n",
        "from transformers import AutoTokenizer, AutoModelWithLMHead, T5ForConditionalGeneration, Trainer, TrainingArguments\n",
        "import json\n",
        "\n",
        "# Load the tokenizer and model\n",
        "tokenizer = AutoTokenizer.from_pretrained(\"mrm8488/t5-base-finetuned-qasc\")\n",
        "model = T5ForConditionalGeneration.from_pretrained(\"mrm8488/t5-base-finetuned-qasc\")\n",
        "# Load the autocast dataset\n",
        "\n",
        "\n",
        "f = open('/content/gdrive/My Drive/filtered_train_data.json')\n",
        "json_obj = json.load(f)\n"
      ],
      "metadata": {
        "colab": {
          "base_uri": "https://localhost:8080/"
        },
        "id": "Rp70Bx50u3_D",
        "outputId": "a2f88d19-6dbe-48eb-f060-cfb283396c30"
      },
      "execution_count": 34,
      "outputs": [
        {
          "output_type": "stream",
          "name": "stderr",
          "text": [
            "The `xla_device` argument has been deprecated in v4.4.0 of Transformers. It is ignored and you can safely remove it from your `config.json` file.\n",
            "The `xla_device` argument has been deprecated in v4.4.0 of Transformers. It is ignored and you can safely remove it from your `config.json` file.\n",
            "The `xla_device` argument has been deprecated in v4.4.0 of Transformers. It is ignored and you can safely remove it from your `config.json` file.\n",
            "The `xla_device` argument has been deprecated in v4.4.0 of Transformers. It is ignored and you can safely remove it from your `config.json` file.\n"
          ]
        }
      ]
    },
    {
      "cell_type": "code",
      "source": [
        "import pandas as pd\n",
        "print(len(json_obj))\n",
        "print(len(json_obj[0]))\n",
        "train_dataset = pd.DataFrame(json_obj)\n",
        "column_names = list(train_dataset.keys())\n",
        "print(column_names)"
      ],
      "metadata": {
        "colab": {
          "base_uri": "https://localhost:8080/"
        },
        "id": "iR7ZGc1SjCFf",
        "outputId": "8024bb90-624b-4229-a532-baab35c66257"
      },
      "execution_count": 60,
      "outputs": [
        {
          "output_type": "stream",
          "name": "stdout",
          "text": [
            "2797\n",
            "14\n",
            "['question', 'id', 'background', 'publish_time', 'close_time', 'tags', 'source_links', 'prediction_count', 'forecaster_count', 'answer', 'choices', 'status', 'qtype', 'crowd']\n"
          ]
        }
      ]
    },
    {
      "cell_type": "code",
      "source": [
        "print(train_dataset['qtype'])"
      ],
      "metadata": {
        "colab": {
          "base_uri": "https://localhost:8080/"
        },
        "id": "CTHIi2GfV8DX",
        "outputId": "4ce5dc8c-89f6-4d32-dda9-ec4808d35c8a"
      },
      "execution_count": 61,
      "outputs": [
        {
          "output_type": "stream",
          "name": "stdout",
          "text": [
            "0        mc\n",
            "1        mc\n",
            "2       t/f\n",
            "3       t/f\n",
            "4       t/f\n",
            "       ... \n",
            "2792    num\n",
            "2793    num\n",
            "2794    num\n",
            "2795    num\n",
            "2796    num\n",
            "Name: qtype, Length: 2797, dtype: object\n"
          ]
        }
      ]
    },
    {
      "cell_type": "code",
      "source": [
        "t1 = train_dataset.loc[train_dataset['id'] == 'M402'].index[0]\n",
        "a1 = train_dataset.loc[t1, 'answer']\n",
        "q1 = train_dataset.loc[t1, 'question']\n",
        "b1 = train_dataset.loc[t1, 'background']\n",
        "print(a1)\n",
        "print(q1)\n",
        "print(b1)\n",
        "print(get_response(q1, b1))"
      ],
      "metadata": {
        "colab": {
          "base_uri": "https://localhost:8080/"
        },
        "id": "j_GSU7MLWTqb",
        "outputId": "dca6e2af-82b4-429e-8fe4-d94a8758a986"
      },
      "execution_count": 66,
      "outputs": [
        {
          "output_type": "stream",
          "name": "stdout",
          "text": [
            "0.42049\n",
            "How many Federally Insured Commercial Banking Institutions will there be at the end of 2017?\n",
            "The U.S. has seen a continued consolidation of the Banking Industry over the past 70+ Years. According to the FDIC, there were over 14,000 FDIC Insured Commercial banks in 1934. Over the next 50 years, the Country maintained similar levels of Commercial Banks (i.e., over 14,000 FDIC Insured Commercial banks in 1984). However, over the past 30+ years, this number has shrunk rapidly through bank mergers and failures. As of 3rd quarter of 2016, year end, there are just 5,170 banks in the United States; the lowest year end total on record. Conversely, banks balance sheets have been growing rapidly over the same time horizon. According to the same FDIC report, domestic deposits at these banks as of Q3 2016 are at the highest levels ever, at over $10.5 trillion. The reasoning for this consolidation are wide ranging, including impacts from the Great Recession (and other past recessions or financial crises), impacts from technology, increased globalization, and increased regulatory burden. Will we continue to see this Industry-wide consolidation in the U.S? How many Federally Insured Commercial Banking Institutions will there be at the end of 2017? Resolution will be via the 4th quarter summary from the FDIC for 2017.\n",
            "[PAD] [unused3] [unused3] [unused9] [unused3] [unused9] [unused3] [unused3] [unused3] [unused9] [unused3] [unused3] [unused3] [unused9] [unused3] [unused9] [unused3] [unused9] [unused3] [unused3] [unused3] [unused3] [unused9] [unused3] [unused9] [unused3] [unused9] [unused3] [unused9] [unused3] [unused9] [unused3] [unused9] [unused3] [unused9] [unused3] at [unused3] [unused9] [unused3]\n"
          ]
        }
      ]
    },
    {
      "cell_type": "code",
      "source": [
        "train_dataset.head()"
      ],
      "metadata": {
        "colab": {
          "base_uri": "https://localhost:8080/",
          "height": 652
        },
        "id": "UX6CIx8HxHkO",
        "outputId": "c7abbc13-ae25-4e3b-e4a9-d1ae35e6b0f9"
      },
      "execution_count": 62,
      "outputs": [
        {
          "output_type": "execute_result",
          "data": {
            "text/plain": [
              "                                            question  id  \\\n",
              "0  What will the end-of-day closing value for the...  G1   \n",
              "1  How many seats will the Justice and Developmen...  G2   \n",
              "2  Will there be an initial public offering on ei...  G4   \n",
              "3  Will the Export-Import Bank of the United Stat...  G5   \n",
              "4  Will a trilateral meeting take place between C...  G6   \n",
              "\n",
              "                                          background  \\\n",
              "0  Outcome will be determined by the end-of-day c...   \n",
              "1  The Justice and Development Party (AKP) failed...   \n",
              "2  China suspended initial public offerings (IPOs...   \n",
              "3  The Export-Import Bank's authorization expired...   \n",
              "4  A trilateral meeting of leaders from China, Ja...   \n",
              "\n",
              "                       publish_time                 close_time  \\\n",
              "0  2015-09-01 13:49:29.860000+00:00  2016-01-01 17:00:01+00:00   \n",
              "1  2015-09-01 13:54:25.050000+00:00  2015-11-01 22:00:20+00:00   \n",
              "2  2015-09-01 13:58:30.138000+00:00  2015-11-30 14:00:15+00:00   \n",
              "3  2015-09-01 14:02:21.242000+00:00  2015-12-04 14:00:25+00:00   \n",
              "4  2015-09-01 14:04:41.470000+00:00  2015-12-31 23:00:11+00:00   \n",
              "\n",
              "                                         tags  \\\n",
              "0              [Finance, Economic Indicators]   \n",
              "1  [Elections and Referenda, Non-US Politics]   \n",
              "2                                   [Finance]   \n",
              "3   [Economic Policy, US Politics, US Policy]   \n",
              "4                            [Foreign Policy]   \n",
              "\n",
              "                                        source_links prediction_count  \\\n",
              "0  [http://ftalphaville.ft.com/2015/08/17/2137329...             1549   \n",
              "1  [http://www.al-monitor.com/pulse/originals/201...              567   \n",
              "2  [http://atimes.com/2015/11/china-will-allow-su...              545   \n",
              "3  [http://thehill.com/policy/finance/260118-week...             1000   \n",
              "4  [https://en.wikipedia.org/wiki/Li_Keqiang, htt...              946   \n",
              "\n",
              "  forecaster_count answer                                            choices  \\\n",
              "0              385      D  [Less than 6.30, Between 6.30 and 6.35, inclus...   \n",
              "1              194      A         [A majority, A plurality, Not a plurality]   \n",
              "2              148    yes                                          [yes, no]   \n",
              "3              379    yes                                          [yes, no]   \n",
              "4              385     no                                          [yes, no]   \n",
              "\n",
              "     status qtype                                              crowd  \n",
              "0  Resolved    mc  [{'timestamp': '2015-09-01 00:00:00+00:00', 'f...  \n",
              "1  Resolved    mc  [{'timestamp': '2015-09-01 00:00:00+00:00', 'f...  \n",
              "2  Resolved   t/f  [{'timestamp': '2015-09-01 00:00:00+00:00', 'f...  \n",
              "3  Resolved   t/f  [{'timestamp': '2015-09-01 00:00:00+00:00', 'f...  \n",
              "4  Resolved   t/f  [{'timestamp': '2015-09-01 00:00:00+00:00', 'f...  "
            ],
            "text/html": [
              "\n",
              "  <div id=\"df-7eb081ea-5dc0-4db4-85ce-0d029e7a12f6\">\n",
              "    <div class=\"colab-df-container\">\n",
              "      <div>\n",
              "<style scoped>\n",
              "    .dataframe tbody tr th:only-of-type {\n",
              "        vertical-align: middle;\n",
              "    }\n",
              "\n",
              "    .dataframe tbody tr th {\n",
              "        vertical-align: top;\n",
              "    }\n",
              "\n",
              "    .dataframe thead th {\n",
              "        text-align: right;\n",
              "    }\n",
              "</style>\n",
              "<table border=\"1\" class=\"dataframe\">\n",
              "  <thead>\n",
              "    <tr style=\"text-align: right;\">\n",
              "      <th></th>\n",
              "      <th>question</th>\n",
              "      <th>id</th>\n",
              "      <th>background</th>\n",
              "      <th>publish_time</th>\n",
              "      <th>close_time</th>\n",
              "      <th>tags</th>\n",
              "      <th>source_links</th>\n",
              "      <th>prediction_count</th>\n",
              "      <th>forecaster_count</th>\n",
              "      <th>answer</th>\n",
              "      <th>choices</th>\n",
              "      <th>status</th>\n",
              "      <th>qtype</th>\n",
              "      <th>crowd</th>\n",
              "    </tr>\n",
              "  </thead>\n",
              "  <tbody>\n",
              "    <tr>\n",
              "      <th>0</th>\n",
              "      <td>What will the end-of-day closing value for the...</td>\n",
              "      <td>G1</td>\n",
              "      <td>Outcome will be determined by the end-of-day c...</td>\n",
              "      <td>2015-09-01 13:49:29.860000+00:00</td>\n",
              "      <td>2016-01-01 17:00:01+00:00</td>\n",
              "      <td>[Finance, Economic Indicators]</td>\n",
              "      <td>[http://ftalphaville.ft.com/2015/08/17/2137329...</td>\n",
              "      <td>1549</td>\n",
              "      <td>385</td>\n",
              "      <td>D</td>\n",
              "      <td>[Less than 6.30, Between 6.30 and 6.35, inclus...</td>\n",
              "      <td>Resolved</td>\n",
              "      <td>mc</td>\n",
              "      <td>[{'timestamp': '2015-09-01 00:00:00+00:00', 'f...</td>\n",
              "    </tr>\n",
              "    <tr>\n",
              "      <th>1</th>\n",
              "      <td>How many seats will the Justice and Developmen...</td>\n",
              "      <td>G2</td>\n",
              "      <td>The Justice and Development Party (AKP) failed...</td>\n",
              "      <td>2015-09-01 13:54:25.050000+00:00</td>\n",
              "      <td>2015-11-01 22:00:20+00:00</td>\n",
              "      <td>[Elections and Referenda, Non-US Politics]</td>\n",
              "      <td>[http://www.al-monitor.com/pulse/originals/201...</td>\n",
              "      <td>567</td>\n",
              "      <td>194</td>\n",
              "      <td>A</td>\n",
              "      <td>[A majority, A plurality, Not a plurality]</td>\n",
              "      <td>Resolved</td>\n",
              "      <td>mc</td>\n",
              "      <td>[{'timestamp': '2015-09-01 00:00:00+00:00', 'f...</td>\n",
              "    </tr>\n",
              "    <tr>\n",
              "      <th>2</th>\n",
              "      <td>Will there be an initial public offering on ei...</td>\n",
              "      <td>G4</td>\n",
              "      <td>China suspended initial public offerings (IPOs...</td>\n",
              "      <td>2015-09-01 13:58:30.138000+00:00</td>\n",
              "      <td>2015-11-30 14:00:15+00:00</td>\n",
              "      <td>[Finance]</td>\n",
              "      <td>[http://atimes.com/2015/11/china-will-allow-su...</td>\n",
              "      <td>545</td>\n",
              "      <td>148</td>\n",
              "      <td>yes</td>\n",
              "      <td>[yes, no]</td>\n",
              "      <td>Resolved</td>\n",
              "      <td>t/f</td>\n",
              "      <td>[{'timestamp': '2015-09-01 00:00:00+00:00', 'f...</td>\n",
              "    </tr>\n",
              "    <tr>\n",
              "      <th>3</th>\n",
              "      <td>Will the Export-Import Bank of the United Stat...</td>\n",
              "      <td>G5</td>\n",
              "      <td>The Export-Import Bank's authorization expired...</td>\n",
              "      <td>2015-09-01 14:02:21.242000+00:00</td>\n",
              "      <td>2015-12-04 14:00:25+00:00</td>\n",
              "      <td>[Economic Policy, US Politics, US Policy]</td>\n",
              "      <td>[http://thehill.com/policy/finance/260118-week...</td>\n",
              "      <td>1000</td>\n",
              "      <td>379</td>\n",
              "      <td>yes</td>\n",
              "      <td>[yes, no]</td>\n",
              "      <td>Resolved</td>\n",
              "      <td>t/f</td>\n",
              "      <td>[{'timestamp': '2015-09-01 00:00:00+00:00', 'f...</td>\n",
              "    </tr>\n",
              "    <tr>\n",
              "      <th>4</th>\n",
              "      <td>Will a trilateral meeting take place between C...</td>\n",
              "      <td>G6</td>\n",
              "      <td>A trilateral meeting of leaders from China, Ja...</td>\n",
              "      <td>2015-09-01 14:04:41.470000+00:00</td>\n",
              "      <td>2015-12-31 23:00:11+00:00</td>\n",
              "      <td>[Foreign Policy]</td>\n",
              "      <td>[https://en.wikipedia.org/wiki/Li_Keqiang, htt...</td>\n",
              "      <td>946</td>\n",
              "      <td>385</td>\n",
              "      <td>no</td>\n",
              "      <td>[yes, no]</td>\n",
              "      <td>Resolved</td>\n",
              "      <td>t/f</td>\n",
              "      <td>[{'timestamp': '2015-09-01 00:00:00+00:00', 'f...</td>\n",
              "    </tr>\n",
              "  </tbody>\n",
              "</table>\n",
              "</div>\n",
              "      <button class=\"colab-df-convert\" onclick=\"convertToInteractive('df-7eb081ea-5dc0-4db4-85ce-0d029e7a12f6')\"\n",
              "              title=\"Convert this dataframe to an interactive table.\"\n",
              "              style=\"display:none;\">\n",
              "        \n",
              "  <svg xmlns=\"http://www.w3.org/2000/svg\" height=\"24px\"viewBox=\"0 0 24 24\"\n",
              "       width=\"24px\">\n",
              "    <path d=\"M0 0h24v24H0V0z\" fill=\"none\"/>\n",
              "    <path d=\"M18.56 5.44l.94 2.06.94-2.06 2.06-.94-2.06-.94-.94-2.06-.94 2.06-2.06.94zm-11 1L8.5 8.5l.94-2.06 2.06-.94-2.06-.94L8.5 2.5l-.94 2.06-2.06.94zm10 10l.94 2.06.94-2.06 2.06-.94-2.06-.94-.94-2.06-.94 2.06-2.06.94z\"/><path d=\"M17.41 7.96l-1.37-1.37c-.4-.4-.92-.59-1.43-.59-.52 0-1.04.2-1.43.59L10.3 9.45l-7.72 7.72c-.78.78-.78 2.05 0 2.83L4 21.41c.39.39.9.59 1.41.59.51 0 1.02-.2 1.41-.59l7.78-7.78 2.81-2.81c.8-.78.8-2.07 0-2.86zM5.41 20L4 18.59l7.72-7.72 1.47 1.35L5.41 20z\"/>\n",
              "  </svg>\n",
              "      </button>\n",
              "      \n",
              "  <style>\n",
              "    .colab-df-container {\n",
              "      display:flex;\n",
              "      flex-wrap:wrap;\n",
              "      gap: 12px;\n",
              "    }\n",
              "\n",
              "    .colab-df-convert {\n",
              "      background-color: #E8F0FE;\n",
              "      border: none;\n",
              "      border-radius: 50%;\n",
              "      cursor: pointer;\n",
              "      display: none;\n",
              "      fill: #1967D2;\n",
              "      height: 32px;\n",
              "      padding: 0 0 0 0;\n",
              "      width: 32px;\n",
              "    }\n",
              "\n",
              "    .colab-df-convert:hover {\n",
              "      background-color: #E2EBFA;\n",
              "      box-shadow: 0px 1px 2px rgba(60, 64, 67, 0.3), 0px 1px 3px 1px rgba(60, 64, 67, 0.15);\n",
              "      fill: #174EA6;\n",
              "    }\n",
              "\n",
              "    [theme=dark] .colab-df-convert {\n",
              "      background-color: #3B4455;\n",
              "      fill: #D2E3FC;\n",
              "    }\n",
              "\n",
              "    [theme=dark] .colab-df-convert:hover {\n",
              "      background-color: #434B5C;\n",
              "      box-shadow: 0px 1px 3px 1px rgba(0, 0, 0, 0.15);\n",
              "      filter: drop-shadow(0px 1px 2px rgba(0, 0, 0, 0.3));\n",
              "      fill: #FFFFFF;\n",
              "    }\n",
              "  </style>\n",
              "\n",
              "      <script>\n",
              "        const buttonEl =\n",
              "          document.querySelector('#df-7eb081ea-5dc0-4db4-85ce-0d029e7a12f6 button.colab-df-convert');\n",
              "        buttonEl.style.display =\n",
              "          google.colab.kernel.accessAllowed ? 'block' : 'none';\n",
              "\n",
              "        async function convertToInteractive(key) {\n",
              "          const element = document.querySelector('#df-7eb081ea-5dc0-4db4-85ce-0d029e7a12f6');\n",
              "          const dataTable =\n",
              "            await google.colab.kernel.invokeFunction('convertToInteractive',\n",
              "                                                     [key], {});\n",
              "          if (!dataTable) return;\n",
              "\n",
              "          const docLinkHtml = 'Like what you see? Visit the ' +\n",
              "            '<a target=\"_blank\" href=https://colab.research.google.com/notebooks/data_table.ipynb>data table notebook</a>'\n",
              "            + ' to learn more about interactive tables.';\n",
              "          element.innerHTML = '';\n",
              "          dataTable['output_type'] = 'display_data';\n",
              "          await google.colab.output.renderOutput(dataTable, element);\n",
              "          const docLink = document.createElement('div');\n",
              "          docLink.innerHTML = docLinkHtml;\n",
              "          element.appendChild(docLink);\n",
              "        }\n",
              "      </script>\n",
              "    </div>\n",
              "  </div>\n",
              "  "
            ]
          },
          "metadata": {},
          "execution_count": 62
        }
      ]
    },
    {
      "cell_type": "code",
      "source": [
        "import re\n",
        "CLEANR = re.compile('<.*?>') \n",
        "\n",
        "def cleanhtml(raw_html):\n",
        "  cleantext = re.sub(CLEANR, '', raw_html)\n",
        "  return cleantext\n",
        "\n",
        "def get_response(question, context, max_length=64):\n",
        "  input_text = 'question: %s  context: %s' % (question, context)\n",
        "  features = tokenizer([input_text], return_tensors='pt')\n",
        "\n",
        "  output = model.generate(input_ids=features['input_ids'], \n",
        "               attention_mask=features['attention_mask'],\n",
        "               max_length=max_length)\n",
        "\n",
        "  return cleanhtml(tokenizer.decode(output[0]))\n",
        "\n",
        "print(get_response(\"Where is the capital of China?\", \"China is in east Asian\"))"
      ],
      "metadata": {
        "colab": {
          "base_uri": "https://localhost:8080/"
        },
        "id": "NUhT5-6y0G02",
        "outputId": "7c351308-c1ce-4326-a979-ff2da64fccba"
      },
      "execution_count": 22,
      "outputs": [
        {
          "output_type": "stream",
          "name": "stdout",
          "text": [
            " Beijing\n"
          ]
        }
      ]
    },
    {
      "cell_type": "code",
      "source": [
        "idx = train_dataset.loc[train_dataset['id'] == 'G1'].index[0]\n",
        " \n",
        "# Extract the context of the row with the given index\n",
        "answer = train_dataset.loc[idx, 'answer']\n",
        "choice = train_dataset.loc[idx, 'choices']\n",
        "# Print the context\n",
        "print(answer)\n",
        "opt = ord(answer) - ord('A')\n",
        "ranswer = choice[opt]\n",
        "print(ranswer)"
      ],
      "metadata": {
        "colab": {
          "base_uri": "https://localhost:8080/"
        },
        "id": "Wqq98THDx6D8",
        "outputId": "02e84532-13e5-4df3-e8e5-3a60f2a1a65a"
      },
      "execution_count": 58,
      "outputs": [
        {
          "output_type": "stream",
          "name": "stdout",
          "text": [
            "D\n",
            "6.40 or more\n"
          ]
        }
      ]
    },
    {
      "cell_type": "code",
      "source": [
        "idx = train_dataset.loc[train_dataset['id'] == 'G4'].index[0]\n",
        "question = train_dataset.loc[idx, 'question']\n",
        "# Extract the context of the row with the given index\n",
        "answer = train_dataset.loc[idx, 'answer']\n",
        "choice = train_dataset.loc[idx, 'choices']\n",
        "ground = train_dataset.loc[idx, 'background']\n",
        "ground = ground[:64]\n",
        "print(ground)\n",
        "# Print the context\n",
        "print(answer)\n",
        "print(choice)\n",
        "print(question)\n",
        "print(ground)\n",
        "pred = get_response(train_dataset.loc[idx, 'question'], '')\n",
        "print(pred)"
      ],
      "metadata": {
        "colab": {
          "base_uri": "https://localhost:8080/"
        },
        "id": "JU73GTE0JrfA",
        "outputId": "1a4804d5-35f4-4b61-a26c-cec461355664"
      },
      "execution_count": 54,
      "outputs": [
        {
          "output_type": "stream",
          "name": "stdout",
          "text": [
            "China suspended initial public offerings (IPOs) in early July (h\n",
            "yes\n",
            "['yes', 'no']\n",
            "Will there be an initial public offering on either the Shanghai Stock Exchange or the Shenzhen Stock Exchange before 1 January 2016?\n",
            "China suspended initial public offerings (IPOs) in early July (h\n",
            "[PAD] [unused3] [unused5] [unused3] [unused32] context : [SEP] [unused3] [unused7] [unused3] [unused5] [unused3] [unused5] [unused3] [unused32] [unused3] [unused5] [unused3] [unused5] [unused3] [unused5] [unused3] [unused5] [unused3] [unused5] [unused3] [unused5] [unused3] [unused5] [unused3] [unused5] [unused3] [unused5] [unused3] [unused5] [unused3] [unused5] [unused3] [unused5] [unused3] [unused5] [unused3] [unused5] [unused3] [unused5] [unused3] [unused5] [unused3] [unused5] [unused3] [unused5] [unused3] [unused5] [unused3] [unused5] [unused3] [unused5] [unused3] [unused5] [unused3] [unused5] [unused3] [unused5]\n"
          ]
        }
      ]
    },
    {
      "cell_type": "code",
      "source": [],
      "metadata": {
        "id": "QtvihCDSVtU5"
      },
      "execution_count": null,
      "outputs": []
    },
    {
      "cell_type": "code",
      "source": [
        "ts = get_response('Will Iran release Jason Rezaian before 31 October 2016?', ' ')\n",
        "print(ts)"
      ],
      "metadata": {
        "colab": {
          "base_uri": "https://localhost:8080/"
        },
        "id": "Ps4j76Q4Uztz",
        "outputId": "707ab94a-10bb-433e-94cc-17fba4ad4966"
      },
      "execution_count": 55,
      "outputs": [
        {
          "output_type": "stream",
          "name": "stdout",
          "text": [
            "[PAD] [unused3] context : [SEP] : [SEP] [unused3] [SEP] [unused3] context : [SEP] [unused3] [SEP] [unused3] [SEP] [unused3] [SEP] [unused3] [SEP] [unused3] [SEP] [unused3] [SEP] [unused3] [SEP] [unused3] [SEP] [unused3] [SEP] [unused3] [SEP] [unused3] [SEP] [unused3] [SEP] [unused3] [SEP] [unused3] [SEP] [unused3] [SEP] [unused3] [SEP] [unused3] [SEP] [unused3] [SEP] [unused3] [SEP] [unused3] [SEP] [unused3] [SEP] [unused3] [SEP] [unused3] [SEP] [unused3] [SEP] [unused3] [SEP] [unused3]\n"
          ]
        }
      ]
    },
    {
      "cell_type": "code",
      "source": [
        "print(get_response())"
      ],
      "metadata": {
        "id": "uH1WDr6BKgDJ"
      },
      "execution_count": null,
      "outputs": []
    },
    {
      "cell_type": "code",
      "source": [
        "pred = get_response(train_dataset.loc[idx, 'question'], train_dataset.loc[idx, 'background'])"
      ],
      "metadata": {
        "id": "le5ua6HCxVJw"
      },
      "execution_count": 23,
      "outputs": []
    },
    {
      "cell_type": "code",
      "source": [
        "print(pred)"
      ],
      "metadata": {
        "colab": {
          "base_uri": "https://localhost:8080/"
        },
        "id": "VCvpKCHP0XLy",
        "outputId": "197c4df7-6a37-417d-c6c2-8b97938cc0c2"
      },
      "execution_count": 26,
      "outputs": [
        {
          "output_type": "stream",
          "name": "stdout",
          "text": [
            " usdcny\n"
          ]
        }
      ]
    },
    {
      "cell_type": "code",
      "source": [
        "from sklearn.metrics.pairwise import cosine_similarity\n",
        "from sklearn.feature_extraction.text import CountVectorizer\n",
        "\n",
        "# Create a CountVectorizer object to convert the sentences to vectors of word counts\n",
        "vectorizer = CountVectorizer().fit_transform([ranswer, pred])\n",
        "\n",
        "# Calculate the cosine similarity between the two vectors\n",
        "cosine_sim = cosine_similarity(vectorizer[0], vectorizer[1])[0][0]\n",
        "\n",
        "# Print the cosine similarity\n",
        "print(\"Cosine similarity:\", cosine_sim)\n"
      ],
      "metadata": {
        "colab": {
          "base_uri": "https://localhost:8080/"
        },
        "id": "18-LcDP1Fksi",
        "outputId": "f9056712-87c6-49b4-fd4a-b8c5c6402d24"
      },
      "execution_count": 30,
      "outputs": [
        {
          "output_type": "stream",
          "name": "stdout",
          "text": [
            "Cosine similarity: 0.0\n"
          ]
        }
      ]
    },
    {
      "cell_type": "code",
      "source": [
        "!pip install transformers"
      ],
      "metadata": {
        "colab": {
          "base_uri": "https://localhost:8080/"
        },
        "id": "ZX7wCA8FHsZT",
        "outputId": "458c4d31-0df8-4ad1-b856-8f520a7a3ef1"
      },
      "execution_count": 36,
      "outputs": [
        {
          "output_type": "stream",
          "name": "stdout",
          "text": [
            "Looking in indexes: https://pypi.org/simple, https://us-python.pkg.dev/colab-wheels/public/simple/\n",
            "Requirement already satisfied: transformers in /usr/local/lib/python3.9/dist-packages (4.28.1)\n",
            "Requirement already satisfied: tqdm>=4.27 in /usr/local/lib/python3.9/dist-packages (from transformers) (4.65.0)\n",
            "Requirement already satisfied: numpy>=1.17 in /usr/local/lib/python3.9/dist-packages (from transformers) (1.22.4)\n",
            "Requirement already satisfied: regex!=2019.12.17 in /usr/local/lib/python3.9/dist-packages (from transformers) (2022.10.31)\n",
            "Requirement already satisfied: packaging>=20.0 in /usr/local/lib/python3.9/dist-packages (from transformers) (23.0)\n",
            "Requirement already satisfied: huggingface-hub<1.0,>=0.11.0 in /usr/local/lib/python3.9/dist-packages (from transformers) (0.13.4)\n",
            "Requirement already satisfied: tokenizers!=0.11.3,<0.14,>=0.11.1 in /usr/local/lib/python3.9/dist-packages (from transformers) (0.13.3)\n",
            "Requirement already satisfied: requests in /usr/local/lib/python3.9/dist-packages (from transformers) (2.27.1)\n",
            "Requirement already satisfied: pyyaml>=5.1 in /usr/local/lib/python3.9/dist-packages (from transformers) (6.0)\n",
            "Requirement already satisfied: filelock in /usr/local/lib/python3.9/dist-packages (from transformers) (3.11.0)\n",
            "Requirement already satisfied: typing-extensions>=3.7.4.3 in /usr/local/lib/python3.9/dist-packages (from huggingface-hub<1.0,>=0.11.0->transformers) (4.5.0)\n",
            "Requirement already satisfied: urllib3<1.27,>=1.21.1 in /usr/local/lib/python3.9/dist-packages (from requests->transformers) (1.26.15)\n",
            "Requirement already satisfied: certifi>=2017.4.17 in /usr/local/lib/python3.9/dist-packages (from requests->transformers) (2022.12.7)\n",
            "Requirement already satisfied: idna<4,>=2.5 in /usr/local/lib/python3.9/dist-packages (from requests->transformers) (3.4)\n",
            "Requirement already satisfied: charset-normalizer~=2.0.0 in /usr/local/lib/python3.9/dist-packages (from requests->transformers) (2.0.12)\n"
          ]
        }
      ]
    },
    {
      "cell_type": "code",
      "source": [
        "from transformers import AutoTokenizer, AutoModel\n",
        "\n",
        "tokenizer_acc = AutoTokenizer.from_pretrained(\"distilbert-base-cased\")\n",
        "model_acc = AutoModel.from_pretrained(\"distilbert-base-cased\")\n"
      ],
      "metadata": {
        "colab": {
          "base_uri": "https://localhost:8080/",
          "height": 149,
          "referenced_widgets": [
            "5d942ccb385245ea92b39ae5cf2aad7b",
            "16c2cf9201204340b1cac0d7e5a4800e",
            "4827b68dedb845b8b13e2fdfd4d8f958",
            "ed0d674c24f4401a92626c677161d671",
            "1ee840802cd34ba2bda373083b32f429",
            "1ef133dd6fb946c5a424f548a1bacb8d",
            "f3a89de1efdf4d8f91a96b33534ae664",
            "ee5dd94518544f41a5d56f7ad461c403",
            "871d6614dc2245e3838274c03d921c68",
            "35e4294f1ebb49dab33f8518b296120a",
            "b78d2566d07d443fb51059c7db5d9e30"
          ]
        },
        "id": "YLM2rATSHFz-",
        "outputId": "dd9531e2-91f0-40ab-80e3-b2c50638494e"
      },
      "execution_count": 41,
      "outputs": [
        {
          "output_type": "display_data",
          "data": {
            "text/plain": [
              "Downloading pytorch_model.bin:   0%|          | 0.00/263M [00:00<?, ?B/s]"
            ],
            "application/vnd.jupyter.widget-view+json": {
              "version_major": 2,
              "version_minor": 0,
              "model_id": "5d942ccb385245ea92b39ae5cf2aad7b"
            }
          },
          "metadata": {}
        },
        {
          "output_type": "stream",
          "name": "stderr",
          "text": [
            "Some weights of the model checkpoint at distilbert-base-cased were not used when initializing DistilBertModel: ['vocab_projector.weight', 'vocab_transform.bias', 'vocab_transform.weight', 'vocab_layer_norm.bias', 'vocab_layer_norm.weight', 'vocab_projector.bias']\n",
            "- This IS expected if you are initializing DistilBertModel from the checkpoint of a model trained on another task or with another architecture (e.g. initializing a BertForSequenceClassification model from a BertForPreTraining model).\n",
            "- This IS NOT expected if you are initializing DistilBertModel from the checkpoint of a model that you expect to be exactly identical (initializing a BertForSequenceClassification model from a BertForSequenceClassification model).\n"
          ]
        }
      ]
    },
    {
      "cell_type": "code",
      "source": [
        "\n",
        "from sklearn.feature_extraction.text import CountVectorizer\n",
        "\n",
        "# Create a CountVectorizer object to convert the sentences to vectors of word counts\n",
        "vectorizer = CountVectorizer().fit_transform([ranswer, pred])\n",
        "\n",
        "# Calculate the cosine similarity between the two vectors\n",
        "cosine_sim = cosine_similarity(vectorizer[0], vectorizer[1])[0][0]\n",
        "\n",
        "# Print the cosine similarity\n",
        "print(\"Cosine similarity:\", cosine_sim)\n"
      ],
      "metadata": {
        "colab": {
          "base_uri": "https://localhost:8080/"
        },
        "id": "zymvkKMTImOL",
        "outputId": "af90383b-9062-4362-a52c-4be913a4dbf4"
      },
      "execution_count": 43,
      "outputs": [
        {
          "output_type": "stream",
          "name": "stdout",
          "text": [
            "Cosine similarity: 0.0\n"
          ]
        }
      ]
    },
    {
      "cell_type": "code",
      "source": [
        "from transformers import AutoTokenizer\n",
        "from sklearn.metrics.pairwise import cosine_similarity\n",
        "\n",
        "# Tokenize and encode the sentences\n",
        "real_answer_tokens = tokenizer.encode(ranswer, return_tensors=\"pt\")\n",
        "prediction_tokens = tokenizer.encode(pred, return_tensors=\"pt\")\n",
        "\n",
        "# Generate fixed-length vector representations of the sentences\n",
        "with torch.no_grad():\n",
        "    real_answer_vec = model_acc(real_answer_tokens)[0][:,0,:]\n",
        "    prediction_vec = model_acc(prediction_tokens)[0][:,0,:]\n",
        "\n",
        "# Compute the cosine similarity between the two sentence vectors\n",
        "similarity = cosine_similarity(real_answer_vec, prediction_vec)\n",
        "\n",
        "print(f\"Cosine similarity: {similarity[0][0]:.2f}\")\n"
      ],
      "metadata": {
        "colab": {
          "base_uri": "https://localhost:8080/"
        },
        "id": "TjT74vAmJAEx",
        "outputId": "91081c42-231f-4d17-ac63-6ec8742f19c3"
      },
      "execution_count": 44,
      "outputs": [
        {
          "output_type": "stream",
          "name": "stdout",
          "text": [
            "Cosine similarity: 0.96\n"
          ]
        }
      ]
    },
    {
      "cell_type": "markdown",
      "metadata": {
        "id": "CVSFmIs15oL_"
      },
      "source": [
        "## Get performance on the Autocast train set\n",
        "\n",
        "Note that the Autocast dataset contains questions in the competition test set. Those should not be used."
      ]
    },
    {
      "cell_type": "code",
      "execution_count": 2,
      "metadata": {
        "id": "w-qRJOVb5oL_"
      },
      "outputs": [],
      "source": [
        "def brier_score(probabilities, answer_probabilities):\n",
        "    return ((probabilities - answer_probabilities) ** 2).sum() / 2"
      ]
    },
    {
      "cell_type": "code",
      "execution_count": null,
      "metadata": {
        "id": "5RW6QvDW5oL_"
      },
      "outputs": [],
      "source": [
        "preds = []\n",
        "answers = []\n",
        "qtypes = []\n",
        "for question in autocast_questions:\n",
        "    if question['id'] in test_ids: # skipping questions in the competition test set\n",
        "        continue\n",
        "    if question['answer'] is None: # skipping questions without answer\n",
        "        continue\n",
        "    preds.append(calibrated_random_baseline_model(question))\n",
        "    if question['qtype'] == 't/f':\n",
        "        ans_idx = 0 if question['answer'] == 'no' else 1\n",
        "        ans = np.zeros(len(question['choices']))\n",
        "        ans[ans_idx] = 1\n",
        "        qtypes.append('t/f')\n",
        "    elif question['qtype'] == 'mc':\n",
        "        ans_idx = ord(question['answer']) - ord('A')\n",
        "        ans = np.zeros(len(question['choices']))\n",
        "        ans[ans_idx] = 1\n",
        "        qtypes.append('mc')\n",
        "    elif question['qtype'] == 'num':\n",
        "        ans = float(question['answer'])\n",
        "        qtypes.append('num')\n",
        "    answers.append(ans)"
      ]
    },
    {
      "cell_type": "markdown",
      "metadata": {
        "id": "62uPw4_S5oMA"
      },
      "source": [
        "## Evaluate the model"
      ]
    },
    {
      "cell_type": "code",
      "execution_count": null,
      "metadata": {
        "id": "F4r2IaF35oMA",
        "outputId": "7fe0311c-fd8e-45d9-d70a-4a5166bda49e"
      },
      "outputs": [
        {
          "name": "stdout",
          "output_type": "stream",
          "text": [
            "T/F: 25.00, MCQ: 38.05, NUM: 22.63\n",
            "Combined Metric: 85.67\n"
          ]
        }
      ],
      "source": [
        "tf_results, mc_results, num_results = [],[],[]\n",
        "for p, a, qtype in zip(preds, answers, qtypes):\n",
        "    if qtype == 't/f':\n",
        "        tf_results.append(brier_score(p, a))\n",
        "    elif qtype == 'mc':\n",
        "        mc_results.append(brier_score(p, a))\n",
        "    else:\n",
        "        num_results.append(np.abs(p - a))\n",
        "\n",
        "print(f\"T/F: {np.mean(tf_results)*100:.2f}, MCQ: {np.mean(mc_results)*100:.2f}, NUM: {np.mean(num_results)*100:.2f}\")\n",
        "print(f\"Combined Metric: {(np.mean(tf_results) + np.mean(mc_results) + np.mean(num_results))*100:.2f}\")"
      ]
    },
    {
      "cell_type": "markdown",
      "metadata": {
        "id": "kY5PJ_7u5oMA"
      },
      "source": [
        "## Make predictions on test set"
      ]
    },
    {
      "cell_type": "code",
      "execution_count": null,
      "metadata": {
        "id": "OHczZ5kX5oMB"
      },
      "outputs": [],
      "source": [
        "preds = []\n",
        "for question in test_questions:\n",
        "    preds.append(calibrated_random_baseline_model(question))"
      ]
    },
    {
      "cell_type": "code",
      "execution_count": null,
      "metadata": {
        "id": "wN2Ckvx_5oMB",
        "outputId": "83e6101a-e4e0-48d4-bd67-27412ea3f0c5"
      },
      "outputs": [
        {
          "name": "stdout",
          "output_type": "stream",
          "text": [
            "updating: predictions.pkl (deflated 79%)\n"
          ]
        }
      ],
      "source": [
        "if not os.path.exists('submission'):\n",
        "    os.makedirs('submission')\n",
        "\n",
        "with open(os.path.join('submission', 'predictions.pkl'), 'wb') as f:\n",
        "    pickle.dump(preds, f, protocol=2)\n",
        "\n",
        "!cd submission && zip ../submission.zip ./* && cd .."
      ]
    },
    {
      "cell_type": "code",
      "execution_count": null,
      "metadata": {
        "id": "B1xa2mPs5oMB",
        "outputId": "3a63601e-da71-4850-bccd-3fe8baa29d84"
      },
      "outputs": [
        {
          "name": "stdout",
          "output_type": "stream",
          "text": [
            "autocast_competition_test_set.json \u001b[36msubmission\u001b[m\u001b[m\n",
            "autocast_questions.json            submission.zip\n",
            "example_submission.ipynb\n"
          ]
        }
      ],
      "source": [
        "!ls"
      ]
    },
    {
      "cell_type": "code",
      "execution_count": null,
      "metadata": {
        "id": "FKYTjZf-5oMB"
      },
      "outputs": [],
      "source": []
    }
  ],
  "metadata": {
    "kernelspec": {
      "display_name": "Python 3.9.13 ('base')",
      "language": "python",
      "name": "python3"
    },
    "language_info": {
      "codemirror_mode": {
        "name": "ipython",
        "version": 3
      },
      "file_extension": ".py",
      "mimetype": "text/x-python",
      "name": "python",
      "nbconvert_exporter": "python",
      "pygments_lexer": "ipython3",
      "version": "3.9.13"
    },
    "orig_nbformat": 4,
    "vscode": {
      "interpreter": {
        "hash": "f01bf9ddc84ecf4d44af6b255c464a00bbb5cd3ac551c4f4936d354218491fcd"
      }
    },
    "colab": {
      "provenance": []
    },
    "widgets": {
      "application/vnd.jupyter.widget-state+json": {
        "5d942ccb385245ea92b39ae5cf2aad7b": {
          "model_module": "@jupyter-widgets/controls",
          "model_name": "HBoxModel",
          "model_module_version": "1.5.0",
          "state": {
            "_dom_classes": [],
            "_model_module": "@jupyter-widgets/controls",
            "_model_module_version": "1.5.0",
            "_model_name": "HBoxModel",
            "_view_count": null,
            "_view_module": "@jupyter-widgets/controls",
            "_view_module_version": "1.5.0",
            "_view_name": "HBoxView",
            "box_style": "",
            "children": [
              "IPY_MODEL_16c2cf9201204340b1cac0d7e5a4800e",
              "IPY_MODEL_4827b68dedb845b8b13e2fdfd4d8f958",
              "IPY_MODEL_ed0d674c24f4401a92626c677161d671"
            ],
            "layout": "IPY_MODEL_1ee840802cd34ba2bda373083b32f429"
          }
        },
        "16c2cf9201204340b1cac0d7e5a4800e": {
          "model_module": "@jupyter-widgets/controls",
          "model_name": "HTMLModel",
          "model_module_version": "1.5.0",
          "state": {
            "_dom_classes": [],
            "_model_module": "@jupyter-widgets/controls",
            "_model_module_version": "1.5.0",
            "_model_name": "HTMLModel",
            "_view_count": null,
            "_view_module": "@jupyter-widgets/controls",
            "_view_module_version": "1.5.0",
            "_view_name": "HTMLView",
            "description": "",
            "description_tooltip": null,
            "layout": "IPY_MODEL_1ef133dd6fb946c5a424f548a1bacb8d",
            "placeholder": "​",
            "style": "IPY_MODEL_f3a89de1efdf4d8f91a96b33534ae664",
            "value": "Downloading pytorch_model.bin: 100%"
          }
        },
        "4827b68dedb845b8b13e2fdfd4d8f958": {
          "model_module": "@jupyter-widgets/controls",
          "model_name": "FloatProgressModel",
          "model_module_version": "1.5.0",
          "state": {
            "_dom_classes": [],
            "_model_module": "@jupyter-widgets/controls",
            "_model_module_version": "1.5.0",
            "_model_name": "FloatProgressModel",
            "_view_count": null,
            "_view_module": "@jupyter-widgets/controls",
            "_view_module_version": "1.5.0",
            "_view_name": "ProgressView",
            "bar_style": "success",
            "description": "",
            "description_tooltip": null,
            "layout": "IPY_MODEL_ee5dd94518544f41a5d56f7ad461c403",
            "max": 263273408,
            "min": 0,
            "orientation": "horizontal",
            "style": "IPY_MODEL_871d6614dc2245e3838274c03d921c68",
            "value": 263273408
          }
        },
        "ed0d674c24f4401a92626c677161d671": {
          "model_module": "@jupyter-widgets/controls",
          "model_name": "HTMLModel",
          "model_module_version": "1.5.0",
          "state": {
            "_dom_classes": [],
            "_model_module": "@jupyter-widgets/controls",
            "_model_module_version": "1.5.0",
            "_model_name": "HTMLModel",
            "_view_count": null,
            "_view_module": "@jupyter-widgets/controls",
            "_view_module_version": "1.5.0",
            "_view_name": "HTMLView",
            "description": "",
            "description_tooltip": null,
            "layout": "IPY_MODEL_35e4294f1ebb49dab33f8518b296120a",
            "placeholder": "​",
            "style": "IPY_MODEL_b78d2566d07d443fb51059c7db5d9e30",
            "value": " 263M/263M [00:02&lt;00:00, 102MB/s]"
          }
        },
        "1ee840802cd34ba2bda373083b32f429": {
          "model_module": "@jupyter-widgets/base",
          "model_name": "LayoutModel",
          "model_module_version": "1.2.0",
          "state": {
            "_model_module": "@jupyter-widgets/base",
            "_model_module_version": "1.2.0",
            "_model_name": "LayoutModel",
            "_view_count": null,
            "_view_module": "@jupyter-widgets/base",
            "_view_module_version": "1.2.0",
            "_view_name": "LayoutView",
            "align_content": null,
            "align_items": null,
            "align_self": null,
            "border": null,
            "bottom": null,
            "display": null,
            "flex": null,
            "flex_flow": null,
            "grid_area": null,
            "grid_auto_columns": null,
            "grid_auto_flow": null,
            "grid_auto_rows": null,
            "grid_column": null,
            "grid_gap": null,
            "grid_row": null,
            "grid_template_areas": null,
            "grid_template_columns": null,
            "grid_template_rows": null,
            "height": null,
            "justify_content": null,
            "justify_items": null,
            "left": null,
            "margin": null,
            "max_height": null,
            "max_width": null,
            "min_height": null,
            "min_width": null,
            "object_fit": null,
            "object_position": null,
            "order": null,
            "overflow": null,
            "overflow_x": null,
            "overflow_y": null,
            "padding": null,
            "right": null,
            "top": null,
            "visibility": null,
            "width": null
          }
        },
        "1ef133dd6fb946c5a424f548a1bacb8d": {
          "model_module": "@jupyter-widgets/base",
          "model_name": "LayoutModel",
          "model_module_version": "1.2.0",
          "state": {
            "_model_module": "@jupyter-widgets/base",
            "_model_module_version": "1.2.0",
            "_model_name": "LayoutModel",
            "_view_count": null,
            "_view_module": "@jupyter-widgets/base",
            "_view_module_version": "1.2.0",
            "_view_name": "LayoutView",
            "align_content": null,
            "align_items": null,
            "align_self": null,
            "border": null,
            "bottom": null,
            "display": null,
            "flex": null,
            "flex_flow": null,
            "grid_area": null,
            "grid_auto_columns": null,
            "grid_auto_flow": null,
            "grid_auto_rows": null,
            "grid_column": null,
            "grid_gap": null,
            "grid_row": null,
            "grid_template_areas": null,
            "grid_template_columns": null,
            "grid_template_rows": null,
            "height": null,
            "justify_content": null,
            "justify_items": null,
            "left": null,
            "margin": null,
            "max_height": null,
            "max_width": null,
            "min_height": null,
            "min_width": null,
            "object_fit": null,
            "object_position": null,
            "order": null,
            "overflow": null,
            "overflow_x": null,
            "overflow_y": null,
            "padding": null,
            "right": null,
            "top": null,
            "visibility": null,
            "width": null
          }
        },
        "f3a89de1efdf4d8f91a96b33534ae664": {
          "model_module": "@jupyter-widgets/controls",
          "model_name": "DescriptionStyleModel",
          "model_module_version": "1.5.0",
          "state": {
            "_model_module": "@jupyter-widgets/controls",
            "_model_module_version": "1.5.0",
            "_model_name": "DescriptionStyleModel",
            "_view_count": null,
            "_view_module": "@jupyter-widgets/base",
            "_view_module_version": "1.2.0",
            "_view_name": "StyleView",
            "description_width": ""
          }
        },
        "ee5dd94518544f41a5d56f7ad461c403": {
          "model_module": "@jupyter-widgets/base",
          "model_name": "LayoutModel",
          "model_module_version": "1.2.0",
          "state": {
            "_model_module": "@jupyter-widgets/base",
            "_model_module_version": "1.2.0",
            "_model_name": "LayoutModel",
            "_view_count": null,
            "_view_module": "@jupyter-widgets/base",
            "_view_module_version": "1.2.0",
            "_view_name": "LayoutView",
            "align_content": null,
            "align_items": null,
            "align_self": null,
            "border": null,
            "bottom": null,
            "display": null,
            "flex": null,
            "flex_flow": null,
            "grid_area": null,
            "grid_auto_columns": null,
            "grid_auto_flow": null,
            "grid_auto_rows": null,
            "grid_column": null,
            "grid_gap": null,
            "grid_row": null,
            "grid_template_areas": null,
            "grid_template_columns": null,
            "grid_template_rows": null,
            "height": null,
            "justify_content": null,
            "justify_items": null,
            "left": null,
            "margin": null,
            "max_height": null,
            "max_width": null,
            "min_height": null,
            "min_width": null,
            "object_fit": null,
            "object_position": null,
            "order": null,
            "overflow": null,
            "overflow_x": null,
            "overflow_y": null,
            "padding": null,
            "right": null,
            "top": null,
            "visibility": null,
            "width": null
          }
        },
        "871d6614dc2245e3838274c03d921c68": {
          "model_module": "@jupyter-widgets/controls",
          "model_name": "ProgressStyleModel",
          "model_module_version": "1.5.0",
          "state": {
            "_model_module": "@jupyter-widgets/controls",
            "_model_module_version": "1.5.0",
            "_model_name": "ProgressStyleModel",
            "_view_count": null,
            "_view_module": "@jupyter-widgets/base",
            "_view_module_version": "1.2.0",
            "_view_name": "StyleView",
            "bar_color": null,
            "description_width": ""
          }
        },
        "35e4294f1ebb49dab33f8518b296120a": {
          "model_module": "@jupyter-widgets/base",
          "model_name": "LayoutModel",
          "model_module_version": "1.2.0",
          "state": {
            "_model_module": "@jupyter-widgets/base",
            "_model_module_version": "1.2.0",
            "_model_name": "LayoutModel",
            "_view_count": null,
            "_view_module": "@jupyter-widgets/base",
            "_view_module_version": "1.2.0",
            "_view_name": "LayoutView",
            "align_content": null,
            "align_items": null,
            "align_self": null,
            "border": null,
            "bottom": null,
            "display": null,
            "flex": null,
            "flex_flow": null,
            "grid_area": null,
            "grid_auto_columns": null,
            "grid_auto_flow": null,
            "grid_auto_rows": null,
            "grid_column": null,
            "grid_gap": null,
            "grid_row": null,
            "grid_template_areas": null,
            "grid_template_columns": null,
            "grid_template_rows": null,
            "height": null,
            "justify_content": null,
            "justify_items": null,
            "left": null,
            "margin": null,
            "max_height": null,
            "max_width": null,
            "min_height": null,
            "min_width": null,
            "object_fit": null,
            "object_position": null,
            "order": null,
            "overflow": null,
            "overflow_x": null,
            "overflow_y": null,
            "padding": null,
            "right": null,
            "top": null,
            "visibility": null,
            "width": null
          }
        },
        "b78d2566d07d443fb51059c7db5d9e30": {
          "model_module": "@jupyter-widgets/controls",
          "model_name": "DescriptionStyleModel",
          "model_module_version": "1.5.0",
          "state": {
            "_model_module": "@jupyter-widgets/controls",
            "_model_module_version": "1.5.0",
            "_model_name": "DescriptionStyleModel",
            "_view_count": null,
            "_view_module": "@jupyter-widgets/base",
            "_view_module_version": "1.2.0",
            "_view_name": "StyleView",
            "description_width": ""
          }
        }
      }
    }
  },
  "nbformat": 4,
  "nbformat_minor": 0
}